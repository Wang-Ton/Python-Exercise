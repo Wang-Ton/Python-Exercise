{
 "cells": [
  {
   "cell_type": "markdown",
   "metadata": {},
   "source": [
    "# 新建EXCEL文件并写入数据"
   ]
  },
  {
   "cell_type": "code",
   "execution_count": null,
   "metadata": {},
   "outputs": [],
   "source": [
    "# import pandas as pd\n",
    "\n",
    "df = pd.DataFrame({'id':[1,2,3,4,5,6,7,8,9,10]})\n",
    "df.to_excel(\"i://Python/output.xlsx\")\n",
    "print(\"done\")"
   ]
  },
  {
   "cell_type": "markdown",
   "metadata": {},
   "source": [
    "# 读取文件"
   ]
  },
  {
   "cell_type": "code",
   "execution_count": 63,
   "metadata": {
    "scrolled": false
   },
   "outputs": [
    {
     "name": "stdout",
     "output_type": "stream",
     "text": [
      "(10, 2)\n",
      "   name\n",
      "id     \n",
      "1   xxx\n",
      "2   yyy\n",
      "3   xxx\n",
      "   name\n",
      "id     \n",
      "9   xxx\n",
      "10  yyy\n",
      "done\n",
      "<bound method NDFrame.head of    name\n",
      "id     \n",
      "1   xxx\n",
      "2   yyy\n",
      "3   xxx\n",
      "4   yyy\n",
      "5   xxx\n",
      "6   yyy\n",
      "7   xxx\n",
      "8   yyy\n",
      "9   xxx\n",
      "10  yyy>\n"
     ]
    }
   ],
   "source": [
    "import pandas as pd\n",
    "\n",
    "excercise = pd.read_excel(\"i://Python/output.xlsx\",header = None)\n",
    "print(excercise.shape)\n",
    "excercise.columns = [\"id\",\"name\"]\n",
    "excercise.set_index(\"id\",inplace=True)\n",
    "#excercise = excercise.set_index(\"id\")\n",
    "print(excercise.head(3))\n",
    "print(excercise.tail(2))\n",
    "excercise.to_excel(\"i://Python/excercise.xlsx\")\n",
    "print(\"done\")\n",
    "df = pd.read_excel(\"i://Python/excercise.xlsx\",index_col = \"id\")\n",
    "print(df.head)"
   ]
  },
  {
   "cell_type": "code",
   "execution_count": null,
   "metadata": {},
   "outputs": [],
   "source": []
  }
 ],
 "metadata": {
  "kernelspec": {
   "display_name": "Python 3",
   "language": "python",
   "name": "python3"
  },
  "language_info": {
   "codemirror_mode": {
    "name": "ipython",
    "version": 3
   },
   "file_extension": ".py",
   "mimetype": "text/x-python",
   "name": "python",
   "nbconvert_exporter": "python",
   "pygments_lexer": "ipython3",
   "version": "3.7.3"
  }
 },
 "nbformat": 4,
 "nbformat_minor": 2
}
