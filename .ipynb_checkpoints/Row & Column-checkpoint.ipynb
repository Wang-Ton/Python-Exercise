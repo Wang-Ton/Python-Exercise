{
 "cells": [
  {
   "cell_type": "code",
   "execution_count": 14,
   "metadata": {},
   "outputs": [
    {
     "name": "stdout",
     "output_type": "stream",
     "text": [
      "x    100\n",
      "y    200\n",
      "z    300\n",
      "r    400\n",
      "dtype: int64\n",
      "Index(['x', 'y', 'z', 'r'], dtype='object')\n"
     ]
    }
   ],
   "source": [
    "import pandas as pd\n",
    "d = {\"x\":100,\"y\": 200 ,\"z\":300,\"r\":400}\n",
    "s1 = pd.Series(d)\n",
    "print (s1)\n",
    "print (s1.index)"
   ]
  },
  {
   "cell_type": "code",
   "execution_count": 15,
   "metadata": {},
   "outputs": [
    {
     "name": "stdout",
     "output_type": "stream",
     "text": [
      "x    100\n",
      "y    200\n",
      "z    300\n",
      "dtype: int64\n"
     ]
    }
   ],
   "source": [
    "L1 = [100,200,300]\n",
    "L2 = [\"x\",\"y\",\"z\"]\n",
    "s2 = pd.Series(L1,index = L2)\n",
    "print(s2)"
   ]
  },
  {
   "cell_type": "code",
   "execution_count": 19,
   "metadata": {
    "scrolled": true
   },
   "outputs": [
    {
     "name": "stdout",
     "output_type": "stream",
     "text": [
      "   A   B    C\n",
      "1  1  10  100\n",
      "2  2  20  200\n",
      "3  3  30  300\n",
      "     1    2    3\n",
      "A    1    2    3\n",
      "B   10   20   30\n",
      "C  100  200  300\n"
     ]
    }
   ],
   "source": [
    "s1 = pd.Series([1,2,3],index=[1,2,3],name= \"A\")\n",
    "s2 = pd.Series([10,20,30],index=[1,2,3],name= \"B\")\n",
    "s3 = pd.Series([100,200,300],index=[1,2,3],name= \"C\")\n",
    "df = pd.DataFrame({s1.name:s1,s2.name:s2,s3.name:s3})\n",
    "pf = pd.DataFrame([s1,s2,s3])\n",
    "print(df)\n",
    "print(pf)"
   ]
  },
  {
   "cell_type": "code",
   "execution_count": null,
   "metadata": {},
   "outputs": [],
   "source": []
  }
 ],
 "metadata": {
  "kernelspec": {
   "display_name": "Python 3",
   "language": "python",
   "name": "python3"
  },
  "language_info": {
   "codemirror_mode": {
    "name": "ipython",
    "version": 3
   },
   "file_extension": ".py",
   "mimetype": "text/x-python",
   "name": "python",
   "nbconvert_exporter": "python",
   "pygments_lexer": "ipython3",
   "version": "3.7.3"
  }
 },
 "nbformat": 4,
 "nbformat_minor": 2
}
